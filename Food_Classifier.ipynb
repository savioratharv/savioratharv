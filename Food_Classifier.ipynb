{
  "nbformat": 4,
  "nbformat_minor": 0,
  "metadata": {
    "colab": {
      "provenance": [],
      "authorship_tag": "ABX9TyOrevBAPTWYs0P9D/PPDzTe",
      "include_colab_link": true
    },
    "kernelspec": {
      "name": "python3",
      "display_name": "Python 3"
    },
    "language_info": {
      "name": "python"
    }
  },
  "cells": [
    {
      "cell_type": "markdown",
      "metadata": {
        "id": "view-in-github",
        "colab_type": "text"
      },
      "source": [
        "<a href=\"https://colab.research.google.com/github/savioratharv/savioratharv/blob/main/Food_Classifier.ipynb\" target=\"_parent\"><img src=\"https://colab.research.google.com/assets/colab-badge.svg\" alt=\"Open In Colab\"/></a>"
      ]
    },
    {
      "cell_type": "code",
      "execution_count": 1,
      "metadata": {
        "id": "R-tEaS93D_1e"
      },
      "outputs": [],
      "source": [
        "import pandas as pd\n",
        "import numpy as np"
      ]
    },
    {
      "cell_type": "code",
      "source": [
        "dataset=pd.read_csv('/content/train.csv')"
      ],
      "metadata": {
        "id": "ez8hUlW1Hj7Z"
      },
      "execution_count": 2,
      "outputs": []
    },
    {
      "cell_type": "code",
      "source": [
        "import re\n",
        "import nltk\n",
        "nltk.download('stopwords')\n",
        "from nltk.corpus import stopwords\n",
        "from nltk.stem.porter import PorterStemmer\n",
        "corpus=[]\n",
        "for i in dataset['text']:\n",
        "  review=re.sub('[^A-Za-z0-9]+', ' ',i.split(':')[1])\n",
        "  review = review.lower()\n",
        "  review = review.split()\n",
        "  # ps = PorterStemmer()\n",
        "  # all_stopwords = stopwords.words('english')\n",
        "  # all_stopwords.remove('not')\n",
        "  # review = [ps.stem(word) for word in review if not word in set(all_stopwords)]\n",
        "  review = ' '.join(review)\n",
        "  corpus.append(review)"
      ],
      "metadata": {
        "colab": {
          "base_uri": "https://localhost:8080/"
        },
        "id": "bP7kOGsCHqXg",
        "outputId": "c2e6078e-73d1-434e-f4e8-774babcddd4b"
      },
      "execution_count": 62,
      "outputs": [
        {
          "output_type": "stream",
          "name": "stderr",
          "text": [
            "[nltk_data] Downloading package stopwords to /root/nltk_data...\n",
            "[nltk_data]   Package stopwords is already up-to-date!\n"
          ]
        }
      ]
    },
    {
      "cell_type": "code",
      "source": [
        "print(corpus)"
      ],
      "metadata": {
        "colab": {
          "base_uri": "https://localhost:8080/"
        },
        "id": "u3G5q_GJJIUv",
        "outputId": "3f786aee-8adf-46bc-a515-e9af7cb0f18c"
      },
      "execution_count": 63,
      "outputs": [
        {
          "output_type": "stream",
          "name": "stdout",
          "text": [
            "['reese s peanut butter layer bars ingredients', 'just bugging you cupcake cones ingredients', 'easy fruit crisp dump dessert ingredients', '3 ingredient crunchy snack mix ingredients', '5 minute poppy seed dressing ingredients', 'ambrosia salsa ingredients', 'angel food cake shakes ingredients', 'angel food flag cake ingredients', 'animal cracker cookies ingredients', 'antipasto platter ingredients', 'appetizer cracker basket ingredients', 'apple berry smoothies ingredients', 'apple butter ingredients', 'apple cinnamon cereal smoothies ingredients', 'apple freezer jam ingredients', 'apple ginger martini ingredients', 'apple molasses snack cake ingredients', 'apple relish ingredients', 'apple snack stacks ingredients', 'apple radish and celery salsa ingredients', 'apple cinnamon crunch treats ingredients', 'apple cranberry bake ingredients', 'apple cranberry dessert ingredients', 'apple pepper jelly ingredients', 'applesauce doughnuts ingredients', 'applesauce ingredients', 'apricot baked brie ingredients', 'apricot cooler ingredients', 'apricot rosemary salsa ingredients', 'artichoke rosemary bruschetta ingredients', 'asian dressing ingredients', 'asian snack mix ingredients', 'asparagus prosciutto vase ingredients', 'athenian style bruschetta ingredients', 'baby shower cake ingredients', 'baby s bib cake ingredients', 'baby s booties ingredients', 'bacon and sun dried tomato ranch dip ingredients', 'baked buffalo wings ingredients', 'baked butternut squash fries ingredients', 'baked chicken wings ingredients', 'banana split cake ingredients', 'banana coconut cream dessert ingredients', 'banana coffee caramel filled cupcakes ingredients', 'banana nut splits ingredients', 'banderillas ingredients', 'barbecued chicken nachos ingredients', 'basil and parsley pesto ingredients', 'bayou shrimp with lemon rosemary aioli ingredients', 'beef crostini with pesto mayonnaise ingredients', 'beergaritas ingredients', 'beer lover s peanuts ingredients', 'berry cheesecake in chocolate crust ingredients', 'berry orange smoothies ingredients', 'berry banana smoothie ingredients', 'birthday cake celebration chex mix ingredients', 'birthday cake yogurt cup ingredients', 'black bean relish ingredients', 'black hills gold chex mix ingredients', 'blackberry basil spritzer ingredients', 'blended thanksgiving butters ingredients', 'blood orange citrus marinade ingredients', 'blood orange rum punch ingredients', 'bloody mary cocktail spread ingredients', 'bloody mary shrimp cocktail ingredients', 'blue banana protein shake ingredients', 'blueberry freezer jam ingredients', 'blueberry smoothies ingredients', 'blueberry carrot muffins ingredients', 'boiled shrimp ingredients', 'booyakasha cereal bars ingredients', 'bourbon bacon chex mix ingredients', 'brandy berry caramel sauce ingredients', 'brie and candied nuts granola bars ingredients', 'brie and cherry pastry cups ingredients', 'brie with cranberry chutney ingredients', 'brown sugar bbq rub ingredients', 'brown sugar cashew bars ingredients', 'brown sugar cupcakes with browned butter frosting ingredients', 'brownie batter chex mix ingredients', 'brownies on a stick ingredients', 'bruschetta ingredients', 'bunny bait chex mix ingredients', 'buttered rum spiced cider ingredients', 'butterfly cut up cake ingredients', 'buttermilk spice cake ingredients', 'butternut squash cupcakes ingredients', 'butterscotch shortbread ingredients', 'buttery trail chex mix ingredients', 'caesar deviled eggs ingredients', 'caipirinhas ingredients', 'cajun spice rub ingredients', 'cake batter chex mix ingredients', 'candied pecan chex mix ingredients', 'candy cane coffee cake ingredients', 'cappuccino nog ingredients', 'caramel apple cider ingredients', 'caramel apple topping ingredients', 'caramel corn chex mix ingredients', 'caramel corn ingredients', 'caramel hot chocolate ingredients', 'caramel banana roll ups ingredients', 'caramelized onion bacon jam ingredients', 'caramelized shallot jam ingredients', 'caramelized onion bruschetta ingredients', 'caramel popcorn bars ingredients', 'caribbean chicken drummies ingredients', 'caribbean layered dip ingredients', 'carrot and celery relish ingredients', 'cedar planked brie and berries ingredients', 'celebration cookies ingredients', 'cereal cutouts ingredients', 'ceviche style shrimp cocktail ingredients', 'chai iced tea ingredients', 'chai ingredients', 'cheddar cauliflower popcorn ingredients', 'cheerios and trix treat bars ingredients', 'cheerios raisin bites ingredients', 'cheesesteak chex mix ingredients', 'cheesy chicken strips ingredients', 'cheesy herb pinwheels ingredients', 'cheesy onion and tomato puffs ingredients', 'cheesy potato skins ingredients', 'cheesy stars ingredients', 'cheesy zucchini bites ingredients', 'cherry jam hattan ingredients', 'cherry berry cobbler ingredients', 'cherry tini ingredients', 'chex honey nut cherry crunch ingredients', 'chex and o s snackin bars ingredients', 'chex caramel chocolate drizzles ingredients', 'chicken enchilada dip ingredients', 'chicken salad stuffed tomato appetizers ingredients', 'chicken taco crescent pizza ingredients', 'chicken terrine ingredients', 'chickpea sweet potato cauliflower baby food puree ingredients', 'chili lime spread ingredients', 'chili vinaigrette dressing ingredients', 'chimichurri sauce ingredients', 'chipotle barbecue sauce ingredients', 'chipotle black bean dip ingredients', 'chipotle cheddar wafers ingredients', 'chipotle honey roasted peanuts ingredients', 'chipotle lime mayonnaise ingredients', 'chipotle mayonnaise ingredients', 'chipotle pico de gallo ingredients', 'choco chip applesauce muffins ingredients', 'chocolate and vanilla swirl pudding ingredients', 'chocolate cherry cookie tart ingredients', 'chocolate chunk peanut cookies ingredients', 'chocolate dream shakes ingredients', 'chocolate indulgence martini ingredients', 'chocolate linzer hearts ingredients', 'chocolate lover s dream cake ingredients', 'chocolate mousse lighter recipe ingredients', 'chocolate pudding poke cake ingredients', 'chocolate stout caramel corn ingredients', 'chocolate truffles topiary ingredients', 'chocolate dipped orange biscotti ingredients', 'chocolate drizzled caramel apples ingredients', 'chocolate mint swirl cake ingredients', 'chocolate peppermint cake ingredients', 'chocolate peppermint poke cake ingredients', 'chocolaty peppermint buddies crunch ingredients', 'christmas chex party mix ingredients', 'christmas snack mix ingredients', 'christmas snickerdoodles cookie exchange quantity ingredients', 'christmas surprise sugar cookies ingredients', 'christmas tree roll ups ingredients', 'chunky gingered applesauce ingredients', 'cilantro pesto ingredients', 'cilantro lime salsa ingredients', 'cinnamon banana butter ingredients', 'cinnamon burst cheerios snack mix ingredients', 'cinnamon cranberry punch ingredients', 'cinnamon hot chocolate ingredients', 'cinnamon snack mix ingredients', 'cinnamon sugar pumpkin seeds ingredients', 'cinnamon toast crunch cocktail ingredients', 'cinnamon twists ingredients', 'cinnamon apple chex mix 1 2 recipe ingredients', 'citrus deville chex mix ingredients', 'citrus caraway mustard ingredients', 'classic cranberry sauce ingredients', 'classic french dressing ingredients', 'classic guacamole ingredients', 'coconut pound cake ingredients', 'coconut shrimp with gingered cocktail sauce ingredients', 'coconut lemon cake ingredients', 'coeur la cr me with berries ingredients', 'coquito ingredients', 'corn fritters with pineapple jalape o sauce ingredients', 'corn tomato salsa ingredients', 'cornucopia chex mix ingredients', 'cr me caramel ingredients', 'crab bites ingredients', 'crab fondue ingredients', 'craft mocktails ingredients', 'cranberry grape relish ingredients', 'cranberry old fashioned ingredients', 'cranberry sauce with orange ingredients', 'cranberry sauce ingredients', 'cranberry chocolate chex snack mix ingredients', 'cranberry orange slush cocktails ingredients', 'cranberry pear chutney ingredients', 'cranberry pecan cheese wafers ingredients', 'cranberry raspberry sauce ingredients', 'cranberry topped brie ingredients', 'cranberry topped three cheese spread ingredients', 'cran blueberry topping ingredients', 'crantinis ingredients', 'creamy chocolate almond coffee ingredients', 'creamy coffee drinkable yogurt ingredients', 'creamy eggnog ingredients', 'creamy peach smoothies ingredients', 'creamy pesto dip ingredients', 'creamy salsa dip ingredients', 'creamy tuna garden wedges ingredients', 'creamy vanilla caramel cheesecake ingredients', 'crimson pears ingredients', 'critter crunch ingredients', 'crunchy caramel cookies ingredients', 'crunchy fruit snack mix ingredients', 'crunchy orange spice snack mix ingredients', 'curried granola snack mix ingredients', 'curried pineapple chutney ingredients', 'curried popcorn mix ingredients', 'curried yogurt dressing ingredients', 'dalmatian cupcakes ingredients', 'decadent fudge sauce ingredients', 'dessert tacos ingredients', 'deviled chex mix ingredients', 'devilish snack mix ingredients', 'dijon deviled eggs ingredients', 'dill havarti shrimp appetizers ingredients', 'dirty martini ingredients', 'divine caramel sauce ingredients', 'double corn snack ingredients', 'double rocky road bars ingredients', 'double berry crisp ingredients', 'double cheese fondue ingredients', 'double chocolate and caramel bars cookie exchange quantity ingredients', 'double chocolate cappuccino cake ingredients', 'easy apple cake ingredients', 'easy berry cream topping ingredients', 'easy brie smoked lox torte ingredients', 'easy cola glaze ingredients', 'easy honey sriracha ham glaze ingredients', 'easy make ahead pasta sauce ingredients', 'easy maple mustard rosemary ham glaze ingredients', 'easy peach jalape o ham glaze ingredients', 'easy peanut butter frosting ingredients', 'easy pineapple ginger glaze ingredients', 'easy pizzettes ingredients', 'easy raspberry brownies ingredients', 'easy root beer barbecue ham glaze ingredients', 'easy santa cookies ingredients', 'easy tomato pizza sauce ingredients', 'elegant cheese and fruit platter ingredients', 'elegant party mix ingredients', 'fajita chicken wings ingredients', 'festive fruit platter crowd size ingredients', 'feta cheese lemon and chive turnovers ingredients', 'fiber one strawberry smoothies ingredients', 'fiery fruit salsa ingredients', 'filled rice fritters ingredients', 'fire ants on a log ingredients', 'fire roasted tomato white bean dip ingredients', 'firecracker punch ingredients', 'fire it up snack mix ingredients', 'flaming pecan bananas ingredients', 'flavored salt trio ingredients', 'french silk protein shake ingredients', 'french toast martini ingredients', 'fresh apple pie ingredients', 'fresh cranberry pear chutney ingredients', 'fresh fruit with ginger dip ingredients', 'fresh peaches with amaretto sauce ingredients', 'fresh tomato salsa ingredients', 'friendly dinosaur cake ingredients', 'frosted cake mix lemon cookies ingredients', 'frosted nutmeg cookies chex mix ingredients', 'frosted rocky road bars ingredients', 'frosty fruity sodas ingredients', 'frosty guava peach sippers ingredients', 'frozen cranberry margaritas ingredients', 'frozen white wine mar gr as ingredients', 'frozen yogurt floats ingredients', 'fruit and cinnamon snack mix ingredients', 'fruit and nut cereal bars ingredients', 'fruit gushers surprise four leaf clovers ingredients', 'fruit kabobs with pineapple dip ingredients', 'fruit pizza turtle crisps ingredients', 'fruit smoothie cubes ingredients', 'fruited cream cheese spread ingredients', 'fruit shaped cheese balls ingredients', 'fruity celebration cake ingredients', 'fudge marble pound cake ingredients', 'game day black bean hummus ingredients', 'garden vegetable dip for a crowd ingredients', 'garlic and parmesan churros ingredients', 'garlic beef bruschetta ingredients', 'german chocolate torte ingredients', 'gibson martini ingredients', 'gin and tonic ingredients', 'ginger cream ingredients', 'ginger garlic marinade ingredients', 'ginger grapefruit mocktail ingredients', 'ginger lemonade ingredients', 'ginger tea coolers ingredients', 'ginger cranberry tangerine sauce ingredients', 'gingered cereal snack mix ingredients', 'gingered shrimp ingredients', 'ginger spiced almonds ingredients', 'gingery cranberry and pear chutney ingredients', 'glazed apple rings ingredients', 'globlins ingredients', 'gluten free blueberry hard lemonade ingredients', 'gluten free chex school fuel ingredients', 'gluten free cranberry nut cinnamon chex mix ingredients', 'gluten free cream cheese swirl brownies ingredients', 'gluten free ginger rice crunch ingredients', 'gluten free gravy ingredients', 'gluten free herbed roasted chick peas ingredients', 'gluten free honey lemon margarita ingredients', 'gluten free lemon zucchini bread ingredients', 'gluten free pink powder puff crunch ingredients', 'gluten free scotch eggs ingredients', 'gluten free snickerdoodle chex mix ingredients', 'gluten free sweet kale chips with honey ingredients', 'gluten free tropical island chex mix ingredients', 'gluten free zesty deviled eggs ingredients', 'gold medal brownie goody bars ingredients', 'golden chex mix ingredients', 'golden fruit chutney ingredients', 'gooey caramel pecan brownies ingredients', 'gooey chex mix ingredients', 'gorgonzola and caramelized onion appetizer ingredients', 'gorgonzola and hazelnut stuffed mushrooms ingredients', 'grapefruit citrus cooler ingredients', 'green herb sauce ingredients', 'green tea and lemon cupcakes ingredients', 'grilled artichoke bruschetta ingredients', 'grilled buffalo chicken sticks ingredients', 'grilled butter rum pound cake ingredients', 'grilled caesar beef appetizer kabobs ingredients', 'grilled canadian bacon and pineapple pizza ingredients', 'grilled caramel apples ingredients', 'grilled feta and olive bread ingredients', 'grilled onion relish ingredients', 'grilled salmon with wasabi mayonnaise ingredients', 'grilled spicy thai chicken wings ingredients', 'grilled vegetable salsa ingredients', 'guacamole ingredients', 'halloween black cat cake ingredients', 'halloween bloody martini ingredients', 'halloween candy corn cocktail ingredients', 'halloween chex mix 1 2 recipe ingredients', 'halloween crescent claws ingredients', 'halloween gorp ingredients', 'ham and gouda pastry puffs ingredients', 'ham and gouda quesadillas ingredients', 'hat cake ingredients', 'heavenly angel food cake ingredients', 'hello kitty apple bowls with yogurt ingredients', 'hemingway cocktail ingredients', 'herb vinegar ingredients', 'herb coated mini cheese balls ingredients', 'herbed garlic pepper rub ingredients', 'hiker s trail chex mix ingredients', 'hiker s trail mix ingredients', 'holiday lime cooler cookies cookie exchange quantity ingredients', 'homemade barbecue sauce ingredients', 'homemade cinnamon applesauce ingredients', 'homemade medium hot sauce ingredients', 'homemade whipped cream ingredients', 'honey bourbon cocktail ingredients', 'honey mustard chicken tidbits ingredients', 'honey nut snack mix ingredients', 'honey nut marshmallow bars ingredients', 'honey nutty chex mix 1 2 recipe ingredients', 'honey oat cranberry cereal bars ingredients', 'honey pecan sauce ingredients', 'honeybell orange rosemary vinaigrette ingredients', 'honey dijon dressing ingredients', 'honey ginger crunch ingredients', 'honey ginger dressing ingredients', 'honey glazed almonds ingredients', 'honey roasted chex mix ingredients', 'honey roasted chipotle rosemary chex party mix ingredients', 'hot and spicy peanuts ingredients', 'hot buttered rum sauce ingredients', 'hot crab crostini ingredients', 'iced caramel cappuccino ingredients', 'iced hazelnut coffee coolers ingredients', 'iced vanilla soy latte ingredients', 'impossibly easy apricot pie ingredients', 'impossibly easy banana custard pie ingredients', 'indoor peanut s mores ingredients', 'inside out chocolate chip cookies ingredients', 'irish cheese plate ingredients', 'italian dressing ingredients', 'italian fruit punch ingredients', 'jarlsberg onion and apple canap s ingredients', 'kentucky bourbon bacon chex mix ingredients', 'key lime banana smoothie ingredients', 'kimchi relish ingredients', 'kiwi and strawberry shortcake squares ingredients', 'kiwi lime rum slush ingredients', 'kumquat martini ingredients', 'layered shrimp spread ingredients', 'lemon buttercream cake with blueberries ingredients', 'lemon curd ingredients', 'lemon herb marinade ingredients', 'lemon meringue cupcakes ingredients', 'lemon meringue pie shakes ingredients', 'lemonade chex mix 1 2 recipe ingredients', 'lemonade iced tea ingredients', 'lemonade tea ingredients', 'lemon herb marinade ingredients', 'lemon strawberry punch ingredients', 'lemon tea thyme martinis ingredients', 'lemon topped gingerbread ingredients', 'lemon white chocolate cheesecake bites ingredients', 'lemony margaritas ingredients', 'let s celebrate cake ingredients', 'licorice wands ingredients', 'linzer torte bars cookie exchange quantity ingredients', 'linzer torte bars ingredients', 'low fat chocolate banana cupcakes ingredients', 'luscious fruit fluff ingredients', 'luscious lemon raspberry bars ingredients', 'mango haba ero hot sauce ingredients', 'mango relish ingredients', 'mango jalape o cupcake stacks ingredients', 'mangoritas ingredients', 'maple ginger cocktail ingredients', 'maple apple jam ingredients', 'maple cranberry syrup ingredients', 'marching in chex mix ingredients', 'margarita chex fiesta mix ingredients', 'margarita slush ingredients', 'marinara sauce ingredients', 'mexican chili dip ingredients', 'mexican coffee ingredients', 'michelada ingredients', 'mimosa fruit cups ingredients', 'mimosa ingredients', 'mincemeat cookie squares ingredients', 'mini cupcake mortarboards ingredients', 'mini doughnut hot buttered cheerios game mix ingredients', 'mini ham and cheese sandwiches ingredients', 'mini hot fudge cakes and strawberry hearts ingredients', 'mini quiches ingredients', 'minion easy yogurt smoothie sippers ingredients', 'mint and orange sparkle ingredients', 'mixed berry jam ingredients', 'mixed berry smoothies ingredients', 'mocha coolers ingredients', 'mocha espresso ingredients', 'mocha caramel cappuccino cupcakes ingredients', 'modern old fashioned cocktail ingredients', 'mojito cheesecake ingredients', 'mojito melon kabobs ingredients', 'momma s cheesecake ingredients', 'mozzarella and basil with marinara sauce ingredients', 'mud pie ingredients', 'muddy buddies snickerdoodle mocha martinis ingredients', 'muddy buddies snickerdoodle snowballs ingredients', 'muddy water ingredients', 'muffin tin buffalo chicken tater tots cups ingredients', 'multigrain soy trail mix ingredients', 'nacho cheesy pizza rolls ingredients', 'nachos ingredients', 'nifty 50s ice cream cone cakes ingredients', 'no crust pumpkin pie ingredients', 'north pole strawberry smoothie ingredients', 'oatmeal cranberry muffins ingredients', 'oats and dark chocolate granola trail mix ingredients', 'off the road car cake ingredients', 'olive crostini ingredients', 'olive tapenade ingredients', 'orange cream halloween floats ingredients', 'orange thyme marinade ingredients', 'orange chocolate puffs ingredients', 'orange glazed strawberry tart ingredients', 'orange mint slush ingredients', 'orange rosemary cupcakes ingredients', 'oreo cookie truffle chex party mix ingredients', 'oven fried chicken chunks with peanut sauce ingredients', 'paintbrush cookies ingredients', 'pan gravy ingredients', 'parmesan white pizza sauce ingredients', 'party confetti yogurt dip ingredients', 'pb j tiny toast topped yogurt ingredients', 'peach and pepper relish ingredients', 'peach cherry chutney ingredients', 'peach mango and cereal smoothies ingredients', 'peachy custard dessert ingredients', 'peachy mimosas ingredients', 'peanut brittle ingredients', 'peanut butter and jelly snack mix ingredients', 'peanut butter munch ingredients', 'peanut butter maple syrup ingredients', 'peanutty chex squares ingredients', 'peanutty good luck snack ingredients', 'pear and cranberry cocktail ingredients', 'pear and rosemary focaccia with fontina cheese ingredients', 'pear salsa ingredients', 'pear orange conserve ingredients', 'pecan pie milkshakes ingredients', 'pepper jack cheese ball ingredients', 'pepperoncini spread ingredients', 'pepperoni rounds ingredients', 'peppery red wine sauce ingredients', 'perfect baked pie crust ingredients', 'pesto bruschetta loaf ingredients', 'pesto salmon roulades ingredients', 'pesto tomato toast ingredients', 'philly cheesesteak chex mix ingredients', 'picnic lemonade ingredients', 'pico de gallo ingredients', 'pimiento cheese spread appetizers ingredients', 'pineapple lime punch ingredients', 'pineapple limeade ingredients', 'pineapple salsa ingredients', 'pineapple apricot jam ingredients', 'pineapple orange colada ingredients', 'pink cabana ingredients', 'pink coconut chiller ingredients', 'pinto beans and roasted red pepper empanadas ingredients', 'pizza nuts ingredients', 'politically incorrect chex mix ingredients', 'popcorn and candy cookie bars ingredients', 'praline ice cream puffs ingredients', 'puffball crunch chex mix ingredients', 'pumpkin bread pudding ingredients', 'pumpkin butter ingredients', 'pumpkin party mix ingredients', 'pumpkin seed popcorn snack mix ingredients', 'pumpkin spice chex mix ingredients', 'pumpkin spice hot toddy ingredients', 'pumpkin spice cookie granola ingredients', 'rainbow cookie bars ingredients', 'ranch chex mix ingredients', 'ranch parmesan cheese toasts ingredients', 'raspberry bread pudding ingredients', 'raspberry frost sodas ingredients', 'raspberry lemonade ingredients', 'raspberry oatmeal smoothies ingredients', 'raspberry punch crowd size ingredients', 'raspberry sundae cake ingredients', 'raspberry upside down cake ingredients', 'raspberry apricot sangria ingredients', 'raspberry laced vanilla cake ingredients', 'ratatouille appetizer pizza ingredients', 'red bananas with cardamom elaichi k la ingredients', 'red onion salsa ingredients', 'red white and blue cookies ingredients', 'reindeer feed chex party mix ingredients', 'reindeer snack ingredients', 'relish deviled eggs ingredients', 'rhubarb cheesecake bars ingredients', 'rich and creamy eggnog ingredients', 'ridiculously easy herb compound butter ingredients', 'roast beef sandwich slices ingredients', 'roasted beet salsa ingredients', 'roasted garlic ingredients', 'roasted red bell pepper bruschetta ingredients', 'roasted red pepper and artichoke dip ingredients', 'roasted red pepper bruschetta ingredients', 'roasted red pepper dip ingredients', 'roasted rosemary gorgonzola pears ingredients', 'roasted sesame and honey chex mix ingredients', 'roasted tomatillo relish ingredients', 'roasted tomato salsa ingredients', 'roasted vegetable dip ingredients', 'rob roy cocktail ingredients', 'rosemary and thyme cocktail chex party mix ingredients', 'rosemary gin fizz ingredients', 'rosemary garlic vinegar ingredients', 's more popcorn ingredients', 's mores snack mix ingredients', 's mores tini ingredients', 'salami veggie roll ups ingredients', 'salmon pimiento appetizers ingredients', 'salmon veggie bites ingredients', 'sangria slush ingredients', 'sangria with brandy ingredients', 'santa s candy sleighs ingredients', 'santa s favorite snack ingredients', 'saucepan granola bars ingredients', 'sausage and cheese balls ingredients', 'sausage and pepperoni dip ingredients', 'sausage stuffed mushrooms ingredients', 'sesame feta veggie dip ingredients', 'shrimp deviled eggs ingredients', 'shrimp melon and pineapple kabobs ingredients', 'shrimp cheese bites ingredients', 'shrimp salsa nachos ingredients', 'singapore sling cocktail ingredients', 'skinny blue cheese dressing ingredients', 'skinny decadent hot chocolate ingredients', 'skinny garlic guacamole ingredients', 'skinny mocha freeze ingredients', 'skinny ranch dressing ingredients', 'skinny sweet almond snack mix ingredients', 'slow cooker asian snack mix ingredients', 'slow cooker bacon caprese dip ingredients', 'slow cooker barbecue sauce ingredients', 'slow cooker chocolate fondue ingredients', 'slow cooker hoisin pork wraps ingredients', 'slow cooker marinara sauce with mozzarella cheese dip ingredients', 'slow cooker marinara sauce with mozzarella cheese dip ingredients', 'slow cooker pork and pineapple on a stick ingredients', 'slow cooker pumpkin latte ingredients', 'slow cooker southwest chicken nachos ingredients', 'slow cooker spiced cranberry apple cider ingredients', 'slow cooker warm cheddar and olive dip ingredients', 'slow cooker warm winter ros sangria ingredients', 'slow cooker white cranberry spiced wine ingredients', 'slow cooker white pizza dip ingredients', 'smoked salmon tarts ingredients', 'smoked sausage and vegetable kabobs ingredients', 'smoky apple cider cocktail ingredients', 'snickerdoodle shakes ingredients', 'snickers stuffed peanut butter cookies ingredients', 'snowflake popcorn ingredients', 'snowman cake ingredients', 'so simple salsa dip ingredients', 'sour cream chunk cookies ingredients', 'southwest relish ingredients', 'southwestern corn cheese dip ingredients', 'southwestern vinaigrette ingredients', 'sparkle cookies ingredients', 'sparkling citrus punch for a crowd ingredients', 'sparkling citrus punch ingredients', 'sparkling cranberry mango punch ingredients', 'sparkling peach punch ingredients', 'sparkling star cookies ingredients', 'spice rub ingredients', 'spiced apricot ginger preserves ingredients', 'spiced caramel banana smoothies ingredients', 'spiced cranberry hot toddy ingredients', 'spiced dessert coffee ingredients', 'spiced pork tenderloin crostini ingredients', 'spicy chipotle chex mix ingredients', 'spicy corn guacamole ingredients', 'spicy cranberry sauce ingredients', 'spicy garlic salsa ingredients', 'spicy tortilla chips ingredients', 'spiderweb cupcakes ingredients', 'spiderweb peanut bars ingredients', 'spinach dip tarts ingredients', 'spinach pesto ingredients', 'spinach cheese balls ingredients', 'spinasse ragu ingredients', 'spooky halloween tree ingredients', 'springtime sprinkles cake ingredients', 'sriracha dipping sauce ingredients', 'stencil birthday cake ingredients', 'strawberry basil margaritas ingredients', 'strawberry cosmopolitan ingredients', 'strawberry cucumber salsa ingredients', 'strawberry lime slush ingredients', 'strawberry mousse dessert cups ingredients', 'strawberry orange jam ingredients', 'strawberry smoothie ingredients', 'strawberry spritzer punch ingredients', 'strawberry trifle ingredients', 'strawberry yogurt torte ingredients', 'strawberry chocolate meringues ingredients', 'strawberry citrus slush ingredients', 'strawberry orange spread ingredients', 'strawberry rhubarb angel cake ingredients', 'strawberry rhubarb crescent shortcakes ingredients', 'strawberry rhubarb slush ingredients', 'stuffed baby portabella mushrooms ingredients', 'sugar cookie martini ingredients', 'sugar cookie tarts ingredients', 'summer fruit shortcakes with maple cream ingredients', 'sun dried tomato biscotti with basil cream cheese topping ingredients', 'sun dried tomato dip ingredients', 'sun dried tomato pesto ingredients', 'super italian spinach dip ingredients', 'super strawberry smoothies ingredients', 'surf and sun chex mix ingredients', 'surprise cupcake cones ingredients', 'sweet and nutty cereal munch ingredients', 'sweet and salty pretzel brownies ingredients', 'sweet and sour grilled swordfish kabobs ingredients', 'sweet and spicy cocktail riblets ingredients', 'sweet butters ingredients', 'sweet corn and sun dried tomato salsa ingredients', 'taco nachos ingredients', 'taco turkey wedges ingredients', 'taffy ingredients', 'teaberry smash ingredients', 'teddy bear ingredients', 'ten minute bruschetta ingredients', 'teriyaki marinade ingredients', 'tex chex mix ingredients', 'the original chex party mix 1 2 recipe ingredients', 'the perfect cheese plate ingredients', 'thousand island dressing ingredients', 'three cheese fondue ingredients', 'thumbprint cookies ingredients', 'tiny toastwiches ingredients', 'tipsy hot fudge sauce ingredients', 'toasted oatmeal cookies ingredients', 'toasted walnut dressing ingredients', 'toffee crunch snack mix ingredients', 'toffee tiramisu for a crowd ingredients', 'tomato basil crostini ingredients', 'tomato artichoke crostini ingredients', 'tomato goat cheese bruschetta ingredients', 'traditional mint julep ingredients', 'trail mix on sticks ingredients', 'triple treat antioxidant smoothies ingredients', 'triple berry pomegranate freezer jam ingredients', 'triple chip bars ingredients', 'triple chocolate mini cups cookie exchange quantity ingredients', 'trolls rainbow cereal snack mix ingredients', 'tropical honey snack mix ingredients', 'tropical tea ingredients', 'tropical trifle ingredients', 'turkey spinach wraps ingredients', 'twinkle twinkle pickle snack ingredients', 'vanilla chai ingredients', 'vegetable buffet platter ingredients', 'very berry iced tea ingredients', 'warm cinnamon orange cider ingredients', 'watermelon cilantro margaritas ingredients', 'watermelon cooler ingredients', 'watermelon mint and lime dessert shooters ingredients', 'white chocolate shortcakes with raspberries ingredients', 'white cupcakes ingredients', 'white fantasy clusters ingredients', 'whole grain snack mix ingredients', 'wild buffalo chex mix ingredients', 'witches purses ingredients', 'yellow cupcakes ingredients', 'yogurt with apples sev raita ingredients', 'zebra crinkles ingredients', 'zesty margarita shrimp cocktail ingredients']\n"
          ]
        }
      ]
    },
    {
      "cell_type": "code",
      "source": [
        "from sklearn.feature_extraction.text import CountVectorizer\n",
        "cv = CountVectorizer(max_features=1500)\n",
        "X = cv.fit_transform(corpus).toarray()"
      ],
      "metadata": {
        "id": "15PYVY82MBve"
      },
      "execution_count": 64,
      "outputs": []
    },
    {
      "cell_type": "code",
      "source": [
        "import numpy as np\n",
        "from sklearn.preprocessing import LabelEncoder\n",
        "le=LabelEncoder()\n",
        "y=le.fit_transform(dataset['category'].values.reshape(-1,1))"
      ],
      "metadata": {
        "colab": {
          "base_uri": "https://localhost:8080/"
        },
        "id": "OywcEmBDMIA7",
        "outputId": "ea6fd28c-5c6a-4a3e-ce44-dfb3e1fbe3b0"
      },
      "execution_count": 65,
      "outputs": [
        {
          "output_type": "stream",
          "name": "stderr",
          "text": [
            "/usr/local/lib/python3.7/dist-packages/sklearn/preprocessing/_label.py:115: DataConversionWarning: A column-vector y was passed when a 1d array was expected. Please change the shape of y to (n_samples, ), for example using ravel().\n",
            "  y = column_or_1d(y, warn=True)\n"
          ]
        }
      ]
    },
    {
      "cell_type": "code",
      "source": [
        "from sklearn.model_selection import train_test_split\n",
        "X_train,X_test,y_train,y_test=train_test_split(X,y,test_size=0.20,random_state=0)"
      ],
      "metadata": {
        "id": "-VebmpMLFqUa"
      },
      "execution_count": 66,
      "outputs": []
    },
    {
      "cell_type": "code",
      "source": [
        "from sklearn.svm import SVC\n",
        "classifier = SVC(kernel = 'linear', random_state = 0)\n",
        "classifier.fit(X_train, y_train)"
      ],
      "metadata": {
        "colab": {
          "base_uri": "https://localhost:8080/"
        },
        "id": "zZr1rKcIIBbE",
        "outputId": "a7c38242-103c-49ad-a9d5-83158b97ca83"
      },
      "execution_count": 73,
      "outputs": [
        {
          "output_type": "execute_result",
          "data": {
            "text/plain": [
              "SVC(kernel='linear', random_state=0)"
            ]
          },
          "metadata": {},
          "execution_count": 73
        }
      ]
    },
    {
      "cell_type": "code",
      "source": [
        "y_pred = classifier.predict(X_test)"
      ],
      "metadata": {
        "id": "HuI8SzZJMmPK"
      },
      "execution_count": 74,
      "outputs": []
    },
    {
      "cell_type": "code",
      "source": [
        "from sklearn.metrics import accuracy_score\n",
        "accuracy_score(y_test,y_pred)"
      ],
      "metadata": {
        "colab": {
          "base_uri": "https://localhost:8080/"
        },
        "id": "qPLJmCv7Mn8U",
        "outputId": "a546886a-8952-4c56-d2fd-1d2120bbb12d"
      },
      "execution_count": 75,
      "outputs": [
        {
          "output_type": "execute_result",
          "data": {
            "text/plain": [
              "0.8657718120805369"
            ]
          },
          "metadata": {},
          "execution_count": 75
        }
      ]
    }
  ]
}